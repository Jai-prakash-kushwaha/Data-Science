{
 "cells": [
  {
   "cell_type": "markdown",
   "id": "d5472212-c3ee-457c-af18-7929e7a9d2e0",
   "metadata": {},
   "source": [
    "# Approach:2.1 - with R (using CSV file)"
   ]
  },
  {
   "cell_type": "code",
   "execution_count": 8,
   "id": "02e1e7fd-660c-41bd-8281-27dc65205d89",
   "metadata": {},
   "outputs": [],
   "source": [
    "# Importing the necessary libraries for data manipulation, analysis and visualization \n",
    "\n",
    "library(dplyr)\n",
    "library(readr)\n",
    "library(ggplot2)\n",
    "library(ggExtra)\n",
    "library(RColorBrewer)"
   ]
  },
  {
   "cell_type": "markdown",
   "id": "bbfc2f6f-849f-4093-8fab-a9be368b12ad",
   "metadata": {},
   "source": [
    "######"
   ]
  },
  {
   "cell_type": "code",
   "execution_count": 9,
   "id": "55fd4140-528c-4d41-943f-865679653a80",
   "metadata": {},
   "outputs": [
    {
     "name": "stderr",
     "output_type": "stream",
     "text": [
      "\u001b[1m\u001b[22mNew names:\n",
      "\u001b[36m•\u001b[39m `` -> `...1`\n",
      "\u001b[1mRows: \u001b[22m\u001b[34m114000\u001b[39m \u001b[1mColumns: \u001b[22m\u001b[34m21\u001b[39m\n",
      "\u001b[36m──\u001b[39m \u001b[1mColumn specification\u001b[22m \u001b[36m─────────────────────────────────────────────────────────────────────────────────────────────────────────────────────────────────────────────────────────────────────────────────────────\u001b[39m\n",
      "\u001b[1mDelimiter:\u001b[22m \",\"\n",
      "\u001b[31mchr\u001b[39m  (5): track_id, artists, album_name, track_name, track_genre\n",
      "\u001b[32mdbl\u001b[39m (15): ...1, popularity, duration_ms, danceability, energy, key, loudness...\n",
      "\u001b[33mlgl\u001b[39m  (1): explicit\n",
      "\n",
      "\u001b[36mℹ\u001b[39m Use `spec()` to retrieve the full column specification for this data.\n",
      "\u001b[36mℹ\u001b[39m Specify the column types or set `show_col_types = FALSE` to quiet this message.\n"
     ]
    }
   ],
   "source": [
    "# Reading the data from the CSV file\n",
    "\n",
    "file_path <- 'C:/Users/Lenovo/Downloads/spotify.csv'\n",
    "spotify_df <- read_csv(file_path)"
   ]
  },
  {
   "cell_type": "markdown",
   "id": "f96f38e9-2eba-43f1-8391-cce285e00824",
   "metadata": {},
   "source": [
    "######"
   ]
  },
  {
   "cell_type": "code",
   "execution_count": 10,
   "id": "ab426e6d-9652-462f-a248-08458cfdedf1",
   "metadata": {},
   "outputs": [],
   "source": [
    "# Updating the column name of 'duration_ms' for song duration and 'track_genre' for song genre as per assignment terminology \n",
    "\n",
    "colnames(spotify_df)[which(colnames(spotify_df) == 'duration_ms')] <- 'song_duration'\n",
    "colnames(spotify_df)[which(colnames(spotify_df) == 'track_genre')] <- 'song_genre'"
   ]
  },
  {
   "cell_type": "markdown",
   "id": "10432030-0cb7-43e1-9aaa-daeb1dfea93d",
   "metadata": {},
   "source": [
    "######"
   ]
  },
  {
   "cell_type": "code",
   "execution_count": 12,
   "id": "a0630165-65b7-48f7-8a43-a90566adde6e",
   "metadata": {},
   "outputs": [
    {
     "data": {
      "image/png": "[encoded data removed]",
      "text/plain": [
       "plot without title"
      ]
     },
     "metadata": {
      "image/png": {
       "height": 420,
       "width": 420
      }
     },
     "output_type": "display_data"
    }
   ],
   "source": [
    "# Filtering out genres with fewer than 2 data points\n",
    "\n",
    "filtered_spotify_df <- spotify_df %>%\n",
    "  group_by(song_genre) %>%\n",
    "  filter(n() > 1) %>%\n",
    "  ungroup()\n",
    "\n",
    "# Identify the top 10 song genres based on the number of songs\n",
    "\n",
    "top_genres <- filtered_spotify_df %>%\n",
    "  count(song_genre) %>%\n",
    "  top_n(10, n) %>%\n",
    "  pull(song_genre)\n",
    "\n",
    "top_genres_df <- filtered_spotify_df %>%\n",
    "  filter(song_genre %in% top_genres)\n",
    "\n",
    "\n",
    "# Create a color palette with enough distinct colors\n",
    "\n",
    "num_genres <- n_distinct(top_genres_df$song_genre)\n",
    "palette <- colorRampPalette(brewer.pal(9, \"Set1\"))(num_genres)\n",
    "\n",
    "\n",
    "# Creating the plot and Histogram with density plot\n",
    "\n",
    "ggplot(top_genres_df, aes(x = song_duration, fill = song_genre, color = song_genre)) +\n",
    "  geom_histogram(alpha = 0.6, position = 'identity', bins = 30) +\n",
    "  geom_density(alpha = 0.2) +\n",
    "  labs(\n",
    "    title = 'Distribution of Song Duration with Density Curve for Top 10 Song Genres',\n",
    "    x = 'Song Duration (seconds)',\n",
    "    y = 'Count'\n",
    "  ) +\n",
    "  theme_minimal() +\n",
    "  theme(legend.title = element_blank()) +\n",
    "  scale_fill_manual(values = palette) +\n",
    "  scale_color_manual(values = palette)\n"
   ]
  },
  {
   "cell_type": "code",
   "execution_count": null,
   "id": "857f3392-7a47-42b1-ab36-b150e9f2675c",
   "metadata": {},
   "outputs": [],
   "source": []
  },
  {
   "cell_type": "code",
   "execution_count": null,
   "id": "57da976e-0c68-4ca4-a7bc-214da40a3268",
   "metadata": {},
   "outputs": [],
   "source": []
  }
 ],
 "metadata": {
  "kernelspec": {
   "display_name": "R",
   "language": "R",
   "name": "ir"
  },
  "language_info": {
   "codemirror_mode": "r",
   "file_extension": ".r",
   "mimetype": "text/x-r-source",
   "name": "R",
   "pygments_lexer": "r",
   "version": "4.4.0"
  }
 },
 "nbformat": 4,
 "nbformat_minor": 5
}
