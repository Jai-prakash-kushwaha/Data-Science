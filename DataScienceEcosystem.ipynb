{
 "cells": [
  {
   "cell_type": "markdown",
   "metadata": {},
   "source": [
    "<center>\n",
    "    <img src=\"https://cf-courses-data.s3.us.cloud-object-storage.appdomain.cloud/IBMDeveloperSkillsNetwork-DS0105EN-SkillsNetwork/labs/Module2/images/SN_web_lightmode.png\" width=\"300\" alt=\"cognitiveclass.ai logo\">\n",
    "</center>\n"
   ]
  },
  {
   "cell_type": "markdown",
   "metadata": {
    "tags": []
   },
   "source": [
    "# Data Science Tools and Ecosystem\n"
   ]
  },
  {
   "cell_type": "markdown",
   "metadata": {},
   "source": [
    "In this notebook of Data Science Tools and Ecosystem, I delve into the essential tools, languages, and libraries that form the backbone of modern data science practices."
   ]
  },
  {
   "cell_type": "markdown",
   "metadata": {},
   "source": [
    "######"
   ]
  },
  {
   "cell_type": "markdown",
   "metadata": {},
   "source": [
    "__Objectives:__\n",
    "* __Markdown and Code Cell Integration:__ Understand how to use markdown cells to add text explanations and code cells to execute Python scripts within the notebook.\n",
    "* __Documentation Skills:__ Develop skills in documenting various aspects of data science, including titles, introductions, lists (languages, libraries, tools), tables, and author details using markdown formatting.\n",
    "* __Data Science Libraries:__ Identify and list commonly used libraries in data science for tasks such as data manipulation, visualization, and machine learning.\n",
    "* __Arithmetic Expressions in Python:__ Write and execute Python code cells to perform arithmetic operations and conversions (e.g., minutes to hours).\n",
    "* __GitHub Repository Handling:__ Learn to upload and manage your Jupyter Notebook on a public GitHub repository for sharing and collaboration.\n"
   ]
  },
  {
   "cell_type": "markdown",
   "metadata": {},
   "source": [
    "######"
   ]
  },
  {
   "cell_type": "markdown",
   "metadata": {},
   "source": [
    "#### Some of the most popular languages that is used by Data Scientists are:\n",
    "\n",
    "The language we choose will depend on the things we need to accomplish and the problems we are trying to solve and for whom we are solving. The problems can be related to the company we work for, what role we have, and the age of our existing application. \n",
    "\n",
    "The popular languages of Data Science are -\n",
    "1. Python \n",
    "2. R \n",
    "3. SQL \n",
    "4. Scala \n",
    "5. Java \n",
    "6. C++  \n",
    "7. Julia \n",
    "\n",
    "There are some other languages that are used in Data Science for their own unique use cases as well, like JavaScript, PHP, Go, Ruby, and Visual Basic."
   ]
  },
  {
   "cell_type": "markdown",
   "metadata": {
    "tags": []
   },
   "source": [
    "######"
   ]
  },
  {
   "cell_type": "markdown",
   "metadata": {},
   "source": [
    "#### Some of the commonly used libraries used by Data Scientists include:\n",
    "1. __Popular Libraries in Python:__\n",
    "    * NumPy: Essential for numerical computing, NumPy supports large, multi-dimensional arrays and matrices.\n",
    "    * pandas: This library excels in data manipulation and analysis, offering efficient handling of structured data through DataFrames.\n",
    "    * matplotlib: Known for its versatility, matplotlib is used to create static, animated, and interactive visualizations in Python.\n",
    "    * scikit-learn: Providing straightforward tools for data mining and analysis, scikit-learn includes various machine learning algorithms.\n",
    "    * TensorFlow / PyTorch: These deep learning frameworks are pivotal for constructing and training neural networks. TensorFlow supports   both traditional ML and deep learning, while PyTorch is acclaimed for its dynamic computation graphs.\n",
    "2. __Essential Libraries in R:__\n",
    "    * ggplot2: Based on the grammar of graphics, ggplot2 allows for highly customizable data visualizations.\n",
    "    * dplyr: Designed for streamlined data manipulation, dplyr simplifies tasks within R's data frames.\n",
    "    * caret: Offering a unified interface for modeling and evaluation, caret supports comprehensive machine learning tasks in R.\n",
    "    * tidyr: Facilitating data organization, tidyr prepares datasets for effective analysis.\n",
    "    * randomForest: Renowned for its accuracy, randomForest implements robust random forest algorithms for classification and regression tasks.\n",
    "3. __Julia's Data Science Libraries:__\n",
    "    * DataFrames.jl: Similar to pandas, this library manages structured data, enabling manipulation, aggregation, and analysis.\n",
    "    * Distributions.jl: Focused on probability distributions and statistical calculations, Distributions.jl supports random number generation.\n",
    "    * StatsModels.jl: Specializing in statistical modeling, StatsModels.jl includes tools for linear regression and generalized linear models.\n",
    "    * Flux.jl: Julia's flexible machine learning library, akin to TensorFlow and PyTorch, facilitates neural network development and training.\n",
    "    * Plots.jl: A versatile plotting library with multiple backends, Plots.jl allows creation of diverse visualizations.\n",
    "4. __Scala Libraries for Data Science:__\n",
    "    * Apache Spark: While not exclusive to Scala, Spark excels in distributed computing for big data processing, machine learning, and real-time analytics.\n",
    "    * Breeze: Inspired by NumPy, Breeze provides efficient numerical computing, linear algebra, and statistics functions.\n",
    "    * Apache Mahout: Focused on scalable machine learning, Mahout delivers algorithms for clustering, classification, and recommendation tasks.\n",
    "    * Smile: Designed for simplicity and high performance, Smile supports various machine learning tasks such as classification, regression, and clustering in Scala and Java.\n",
    "    * Algebird: A functional programming library offering abstract algebraic structures, Algebird enhances data aggregation and statistical operations."
   ]
  },
  {
   "cell_type": "markdown",
   "metadata": {
    "tags": []
   },
   "source": [
    "####"
   ]
  },
  {
   "cell_type": "markdown",
   "metadata": {
    "tags": []
   },
   "source": [
    "#### Three development environment open source tools used in data science are -\n",
    "| Data Science Tools |\n",
    "| ------------------ |\n",
    "| Jupyter Notebook & Juypter Lab |\n",
    "| Apache Zeppelin |\n",
    "| R Studio |\n"
   ]
  },
  {
   "cell_type": "markdown",
   "metadata": {},
   "source": [
    "######"
   ]
  },
  {
   "cell_type": "markdown",
   "metadata": {},
   "source": [
    "### Below are some fascinating examples to evaluating arithmetic expressions in Python."
   ]
  },
  {
   "cell_type": "code",
   "execution_count": 8,
   "metadata": {
    "tags": []
   },
   "outputs": [
    {
     "data": {
      "text/plain": [
       "17"
      ]
     },
     "execution_count": 8,
     "metadata": {},
     "output_type": "execute_result"
    }
   ],
   "source": [
    "# Below expression is evaluating a basic arithmetic expression containing addition and multiplication operations.\n",
    "(3*4)+5"
   ]
  },
  {
   "cell_type": "code",
   "execution_count": 11,
   "metadata": {
    "tags": []
   },
   "outputs": [
    {
     "data": {
      "text/plain": [
       "3.3333333333333335"
      ]
     },
     "execution_count": 11,
     "metadata": {},
     "output_type": "execute_result"
    }
   ],
   "source": [
    "# Below expression converts 200 minutes into hours by dividing by 60\n",
    "200/60"
   ]
  },
  {
   "cell_type": "markdown",
   "metadata": {},
   "source": [
    "######"
   ]
  },
  {
   "cell_type": "markdown",
   "metadata": {},
   "source": [
    "## Author\n",
    "Jai Prakash Kushwaha"
   ]
  }
 ],
 "metadata": {
  "kernelspec": {
   "display_name": "Python",
   "language": "python",
   "name": "conda-env-python-py"
  },
  "language_info": {
   "codemirror_mode": {
    "name": "ipython",
    "version": 3
   },
   "file_extension": ".py",
   "mimetype": "text/x-python",
   "name": "python",
   "nbconvert_exporter": "python",
   "pygments_lexer": "ipython3",
   "version": "3.7.12"
  }
 },
 "nbformat": 4,
 "nbformat_minor": 4
}
