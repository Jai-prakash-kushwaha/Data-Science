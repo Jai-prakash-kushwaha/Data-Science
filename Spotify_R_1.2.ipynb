{
 "cells": [
  {
   "cell_type": "markdown",
   "id": "c7d5fdf1-1d4a-4b92-92ca-e4c93a095e26",
   "metadata": {},
   "source": [
    "# Approach:2.2 - with R (using API)"
   ]
  },
  {
   "cell_type": "code",
   "execution_count": 18,
   "id": "2afbd066-1c2c-4987-81ce-b41de5fae4f0",
   "metadata": {},
   "outputs": [],
   "source": [
    "# loading the necessary libraries for data manipulation, analysis and visualization \n",
    "\n",
    "library(httr)\n",
    "library(jsonlite)\n",
    "library(dplyr)\n",
    "library(ggplot2)\n",
    "library(ggExtra)\n",
    "library(RColorBrewer)"
   ]
  },
  {
   "cell_type": "markdown",
   "id": "24a63d3c-1bf9-4e00-9fdd-a9b27e0b814a",
   "metadata": {},
   "source": [
    "######"
   ]
  },
  {
   "cell_type": "code",
   "execution_count": 19,
   "id": "60efb1d1-f79a-4650-b546-ee533f6e6a1e",
   "metadata": {},
   "outputs": [
    {
     "name": "stdout",
     "output_type": "stream",
     "text": [
      "\n"
     ]
    }
   ],
   "source": [
    "# Setting the Spotify API credentials\n",
    "\n",
    "client_id <- '24e4c55a9a904f4b9c3fb68b778e6411'\n",
    "client_secret <- '37fe0977201a4d04b990d1c3862e67ea'\n",
    "\n",
    "\n",
    "# Authenticate with the Spotify API\n",
    "\n",
    "auth_response <- POST('https://accounts.spotify.com/api/token',\n",
    "                      accept_json(),\n",
    "                      authenticate(client_id, client_secret),\n",
    "                      body = list(grant_type = 'client_credentials'),\n",
    "                      encode = 'form',\n",
    "                      verbose())\n",
    "auth_token <- content(auth_response)$access_token"
   ]
  },
  {
   "cell_type": "code",
   "execution_count": 20,
   "id": "b401f338-7501-49f4-b440-a8fd6df5a985",
   "metadata": {},
   "outputs": [],
   "source": [
    "# Collecting Data from Spotify and Defining a function to get tracks' duration and genre from a given playlist\n",
    "\n",
    "get_tracks_data <- function(playlist_id, token) {\n",
    "  url <- paste0('https://api.spotify.com/v1/playlists/', playlist_id, '/tracks')\n",
    "  response <- GET(url, add_headers(Authorization = paste('Bearer', token)))\n",
    "  tracks <- content(response)$items\n",
    "  \n",
    "  track_list <- lapply(tracks, function(track) {\n",
    "    list(\n",
    "      song_duration = track$track$duration_ms / 1000,  # Convert to seconds\n",
    "      song_genre = if (length(track$track$artists) > 0) track$track$artists[[1]]$name else 'Unknown'\n",
    "    )\n",
    "  })\n",
    "  \n",
    "  tracks_df <- bind_rows(track_list)\n",
    "  return(tracks_df)\n",
    "}\n",
    "\n",
    "                       \n",
    "# Playlist ID \n",
    "                       \n",
    "playlist_id <- '37i9dQZF1DXcBWIGoYBM5M'\n",
    "tracks_df <- get_tracks_data(playlist_id, auth_token)"
   ]
  },
  {
   "cell_type": "markdown",
   "id": "7adf59d5-4772-4006-b6b7-b11b5da8cc08",
   "metadata": {},
   "source": [
    "######"
   ]
  },
  {
   "cell_type": "code",
   "execution_count": 21,
   "id": "86ed1ddd-617f-4281-9d0a-e4e1487dd35f",
   "metadata": {},
   "outputs": [
    {
     "data": {
      "image/png": "[encoded data removed]",
      "text/plain": [
       "plot without title"
      ]
     },
     "metadata": {
      "image/png": {
       "height": 420,
       "width": 420
      }
     },
     "output_type": "display_data"
    }
   ],
   "source": [
    "# Filtering out genres with fewer than 2 data points\n",
    "\n",
    "filtered_tracks_df <- tracks_df %>%\n",
    "  group_by(song_genre) %>%\n",
    "  filter(n() > 1) %>%\n",
    "  ungroup()\n",
    "\n",
    "\n",
    "# Creating a color palette with enough distinct colors\n",
    "\n",
    "num_genres <- n_distinct(filtered_tracks_df$song_genre)\n",
    "palette <- colorRampPalette(brewer.pal(9, \"Set1\"))(num_genres)\n",
    "\n",
    "\n",
    "# Creating the plot and Histogram with density plot \n",
    "\n",
    "ggplot(filtered_tracks_df, aes(x = song_duration, fill = song_genre, color = song_genre)) +\n",
    "  geom_histogram(alpha = 0.6, position = 'identity', bins = 30) +\n",
    "  geom_density(alpha = 0.2) +\n",
    "  labs(\n",
    "    title = 'Distribution of Song Duration with Density Curve',\n",
    "    x = 'Song Duration (seconds)',\n",
    "    y = 'Count'\n",
    "  ) +\n",
    "  theme_minimal() +\n",
    "  theme(legend.title = element_blank()) +\n",
    "  scale_fill_manual(values = palette) +\n",
    "  scale_color_manual(values = palette)"
   ]
  }
 ],
 "metadata": {
  "kernelspec": {
   "display_name": "R",
   "language": "R",
   "name": "ir"
  },
  "language_info": {
   "codemirror_mode": "r",
   "file_extension": ".r",
   "mimetype": "text/x-r-source",
   "name": "R",
   "pygments_lexer": "r",
   "version": "4.4.0"
  }
 },
 "nbformat": 4,
 "nbformat_minor": 5
}
