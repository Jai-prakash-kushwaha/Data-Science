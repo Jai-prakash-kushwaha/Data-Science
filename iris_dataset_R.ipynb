{
 "cells": [
  {
   "cell_type": "markdown",
   "id": "0f974619-e1e8-4237-8abe-8229339fd1a3",
   "metadata": {},
   "source": [
    "# <u> Assignment - Programming with R and Python </u>"
   ]
  },
  {
   "cell_type": "markdown",
   "id": "035933cd-fbb7-42e8-8028-aa59f7a57db3",
   "metadata": {},
   "source": [
    "#### 1. You are given the iris dataset to derive insight from. Using an appropriate library in R, perform the following tasks:\n",
    "\n",
    "   * <font size=\"3\">Select petal length and sepal length from the given dataset.</font>\n",
    "   * <font size=\"3\">Filter the data to represent only those classes of flowers whose petal length is more than 5.5 units.</font>\n",
    "   * <font size=\"3\">Create a new column ‘flower area’ to represent the total area occupied by the flower petals.</font>"
   ]
  },
  {
   "cell_type": "markdown",
   "id": "4769f508-6115-4a46-93aa-96d504a36e55",
   "metadata": {},
   "source": [
    "#### Evaluation Rubrics:\n",
    "| Parameter | Marks |\n",
    "|---------- | --------- |\n",
    "| Selection of library | 1 |\n",
    "| Choice of function 1 | 1 |\n",
    "| Choice of function 2 | 2 |"
   ]
  },
  {
   "cell_type": "markdown",
   "id": "62b12522-702d-4e8b-af25-3e08c0859e24",
   "metadata": {},
   "source": [
    "#"
   ]
  },
  {
   "cell_type": "markdown",
   "id": "3310a781-c233-4998-aa8a-8b6353b57788",
   "metadata": {},
   "source": [
    "# Approach:1 - with R "
   ]
  },
  {
   "cell_type": "code",
   "execution_count": 2,
   "id": "d33c00cf-34a8-4a59-b12e-4301e28e639e",
   "metadata": {},
   "outputs": [],
   "source": [
    "# Load necessary libraries\n",
    "\n",
    "library(dplyr)"
   ]
  },
  {
   "cell_type": "markdown",
   "id": "5f12b781-c592-4f1f-a6b5-3d140908f0e0",
   "metadata": {},
   "source": [
    "######"
   ]
  },
  {
   "cell_type": "code",
   "execution_count": 3,
   "id": "e3173382-3f4c-4477-9bac-e21e760422ea",
   "metadata": {},
   "outputs": [
    {
     "data": {
      "text/html": [
       "<table class=\"dataframe\">\n",
       "<caption>A data.frame: 6 × 6</caption>\n",
       "<thead>\n",
       "\t<tr><th></th><th scope=col>Id</th><th scope=col>SepalLengthCm</th><th scope=col>SepalWidthCm</th><th scope=col>PetalLengthCm</th><th scope=col>PetalWidthCm</th><th scope=col>Species</th></tr>\n",
       "\t<tr><th></th><th scope=col>&lt;int&gt;</th><th scope=col>&lt;dbl&gt;</th><th scope=col>&lt;dbl&gt;</th><th scope=col>&lt;dbl&gt;</th><th scope=col>&lt;dbl&gt;</th><th scope=col>&lt;chr&gt;</th></tr>\n",
       "</thead>\n",
       "<tbody>\n",
       "\t<tr><th scope=row>1</th><td>1</td><td>5.1</td><td>3.5</td><td>1.4</td><td>0.2</td><td>Iris-setosa</td></tr>\n",
       "\t<tr><th scope=row>2</th><td>2</td><td>4.9</td><td>3.0</td><td>1.4</td><td>0.2</td><td>Iris-setosa</td></tr>\n",
       "\t<tr><th scope=row>3</th><td>3</td><td>4.7</td><td>3.2</td><td>1.3</td><td>0.2</td><td>Iris-setosa</td></tr>\n",
       "\t<tr><th scope=row>4</th><td>4</td><td>4.6</td><td>3.1</td><td>1.5</td><td>0.2</td><td>Iris-setosa</td></tr>\n",
       "\t<tr><th scope=row>5</th><td>5</td><td>5.0</td><td>3.6</td><td>1.4</td><td>0.2</td><td>Iris-setosa</td></tr>\n",
       "\t<tr><th scope=row>6</th><td>6</td><td>5.4</td><td>3.9</td><td>1.7</td><td>0.4</td><td>Iris-setosa</td></tr>\n",
       "</tbody>\n",
       "</table>\n"
      ],
      "text/latex": [
       "A data.frame: 6 × 6\n",
       "\\begin{tabular}{r|llllll}\n",
       "  & Id & SepalLengthCm & SepalWidthCm & PetalLengthCm & PetalWidthCm & Species\\\\\n",
       "  & <int> & <dbl> & <dbl> & <dbl> & <dbl> & <chr>\\\\\n",
       "\\hline\n",
       "\t1 & 1 & 5.1 & 3.5 & 1.4 & 0.2 & Iris-setosa\\\\\n",
       "\t2 & 2 & 4.9 & 3.0 & 1.4 & 0.2 & Iris-setosa\\\\\n",
       "\t3 & 3 & 4.7 & 3.2 & 1.3 & 0.2 & Iris-setosa\\\\\n",
       "\t4 & 4 & 4.6 & 3.1 & 1.5 & 0.2 & Iris-setosa\\\\\n",
       "\t5 & 5 & 5.0 & 3.6 & 1.4 & 0.2 & Iris-setosa\\\\\n",
       "\t6 & 6 & 5.4 & 3.9 & 1.7 & 0.4 & Iris-setosa\\\\\n",
       "\\end{tabular}\n"
      ],
      "text/markdown": [
       "\n",
       "A data.frame: 6 × 6\n",
       "\n",
       "| <!--/--> | Id &lt;int&gt; | SepalLengthCm &lt;dbl&gt; | SepalWidthCm &lt;dbl&gt; | PetalLengthCm &lt;dbl&gt; | PetalWidthCm &lt;dbl&gt; | Species &lt;chr&gt; |\n",
       "|---|---|---|---|---|---|---|\n",
       "| 1 | 1 | 5.1 | 3.5 | 1.4 | 0.2 | Iris-setosa |\n",
       "| 2 | 2 | 4.9 | 3.0 | 1.4 | 0.2 | Iris-setosa |\n",
       "| 3 | 3 | 4.7 | 3.2 | 1.3 | 0.2 | Iris-setosa |\n",
       "| 4 | 4 | 4.6 | 3.1 | 1.5 | 0.2 | Iris-setosa |\n",
       "| 5 | 5 | 5.0 | 3.6 | 1.4 | 0.2 | Iris-setosa |\n",
       "| 6 | 6 | 5.4 | 3.9 | 1.7 | 0.4 | Iris-setosa |\n",
       "\n"
      ],
      "text/plain": [
       "  Id SepalLengthCm SepalWidthCm PetalLengthCm PetalWidthCm Species    \n",
       "1 1  5.1           3.5          1.4           0.2          Iris-setosa\n",
       "2 2  4.9           3.0          1.4           0.2          Iris-setosa\n",
       "3 3  4.7           3.2          1.3           0.2          Iris-setosa\n",
       "4 4  4.6           3.1          1.5           0.2          Iris-setosa\n",
       "5 5  5.0           3.6          1.4           0.2          Iris-setosa\n",
       "6 6  5.4           3.9          1.7           0.4          Iris-setosa"
      ]
     },
     "metadata": {},
     "output_type": "display_data"
    }
   ],
   "source": [
    "# Reading the CSV file into a dataframe\n",
    "file_path <- 'C:/Users/Lenovo/Downloads/Iris.csv'\n",
    "iris_df <- read.csv(file_path)\n",
    "head(iris_df)  # Display the first few rows of the dataframe\n"
   ]
  },
  {
   "cell_type": "markdown",
   "id": "cbfec146-0aa3-49c5-b4c1-30c7322e6163",
   "metadata": {},
   "source": [
    "######"
   ]
  },
  {
   "cell_type": "code",
   "execution_count": 4,
   "id": "99ca6a35-add6-451f-b912-549655634528",
   "metadata": {},
   "outputs": [
    {
     "data": {
      "text/html": [
       "<table class=\"dataframe\">\n",
       "<caption>A data.frame: 6 × 2</caption>\n",
       "<thead>\n",
       "\t<tr><th></th><th scope=col>PetalLengthCm</th><th scope=col>SepalLengthCm</th></tr>\n",
       "\t<tr><th></th><th scope=col>&lt;dbl&gt;</th><th scope=col>&lt;dbl&gt;</th></tr>\n",
       "</thead>\n",
       "<tbody>\n",
       "\t<tr><th scope=row>1</th><td>1.4</td><td>5.1</td></tr>\n",
       "\t<tr><th scope=row>2</th><td>1.4</td><td>4.9</td></tr>\n",
       "\t<tr><th scope=row>3</th><td>1.3</td><td>4.7</td></tr>\n",
       "\t<tr><th scope=row>4</th><td>1.5</td><td>4.6</td></tr>\n",
       "\t<tr><th scope=row>5</th><td>1.4</td><td>5.0</td></tr>\n",
       "\t<tr><th scope=row>6</th><td>1.7</td><td>5.4</td></tr>\n",
       "</tbody>\n",
       "</table>\n"
      ],
      "text/latex": [
       "A data.frame: 6 × 2\n",
       "\\begin{tabular}{r|ll}\n",
       "  & PetalLengthCm & SepalLengthCm\\\\\n",
       "  & <dbl> & <dbl>\\\\\n",
       "\\hline\n",
       "\t1 & 1.4 & 5.1\\\\\n",
       "\t2 & 1.4 & 4.9\\\\\n",
       "\t3 & 1.3 & 4.7\\\\\n",
       "\t4 & 1.5 & 4.6\\\\\n",
       "\t5 & 1.4 & 5.0\\\\\n",
       "\t6 & 1.7 & 5.4\\\\\n",
       "\\end{tabular}\n"
      ],
      "text/markdown": [
       "\n",
       "A data.frame: 6 × 2\n",
       "\n",
       "| <!--/--> | PetalLengthCm &lt;dbl&gt; | SepalLengthCm &lt;dbl&gt; |\n",
       "|---|---|---|\n",
       "| 1 | 1.4 | 5.1 |\n",
       "| 2 | 1.4 | 4.9 |\n",
       "| 3 | 1.3 | 4.7 |\n",
       "| 4 | 1.5 | 4.6 |\n",
       "| 5 | 1.4 | 5.0 |\n",
       "| 6 | 1.7 | 5.4 |\n",
       "\n"
      ],
      "text/plain": [
       "  PetalLengthCm SepalLengthCm\n",
       "1 1.4           5.1          \n",
       "2 1.4           4.9          \n",
       "3 1.3           4.7          \n",
       "4 1.5           4.6          \n",
       "5 1.4           5.0          \n",
       "6 1.7           5.4          "
      ]
     },
     "metadata": {},
     "output_type": "display_data"
    }
   ],
   "source": [
    "# Selecting petal length and sepal length\n",
    "selected_df <- iris_df %>% select(PetalLengthCm, SepalLengthCm)\n",
    "head(selected_df)  # Display the first few rows of the selected dataframe\n"
   ]
  },
  {
   "cell_type": "markdown",
   "id": "95a82e21-3d94-40fd-9b28-6fb504063356",
   "metadata": {},
   "source": [
    "######"
   ]
  },
  {
   "cell_type": "code",
   "execution_count": 5,
   "id": "2b9797a5-95c7-48dc-9d7c-6fb2926b7662",
   "metadata": {},
   "outputs": [
    {
     "data": {
      "text/html": [
       "<table class=\"dataframe\">\n",
       "<caption>A data.frame: 6 × 6</caption>\n",
       "<thead>\n",
       "\t<tr><th></th><th scope=col>Id</th><th scope=col>SepalLengthCm</th><th scope=col>SepalWidthCm</th><th scope=col>PetalLengthCm</th><th scope=col>PetalWidthCm</th><th scope=col>Species</th></tr>\n",
       "\t<tr><th></th><th scope=col>&lt;int&gt;</th><th scope=col>&lt;dbl&gt;</th><th scope=col>&lt;dbl&gt;</th><th scope=col>&lt;dbl&gt;</th><th scope=col>&lt;dbl&gt;</th><th scope=col>&lt;chr&gt;</th></tr>\n",
       "</thead>\n",
       "<tbody>\n",
       "\t<tr><th scope=row>1</th><td>101</td><td>6.3</td><td>3.3</td><td>6.0</td><td>2.5</td><td>Iris-virginica</td></tr>\n",
       "\t<tr><th scope=row>2</th><td>103</td><td>7.1</td><td>3.0</td><td>5.9</td><td>2.1</td><td>Iris-virginica</td></tr>\n",
       "\t<tr><th scope=row>3</th><td>104</td><td>6.3</td><td>2.9</td><td>5.6</td><td>1.8</td><td>Iris-virginica</td></tr>\n",
       "\t<tr><th scope=row>4</th><td>105</td><td>6.5</td><td>3.0</td><td>5.8</td><td>2.2</td><td>Iris-virginica</td></tr>\n",
       "\t<tr><th scope=row>5</th><td>106</td><td>7.6</td><td>3.0</td><td>6.6</td><td>2.1</td><td>Iris-virginica</td></tr>\n",
       "\t<tr><th scope=row>6</th><td>108</td><td>7.3</td><td>2.9</td><td>6.3</td><td>1.8</td><td>Iris-virginica</td></tr>\n",
       "</tbody>\n",
       "</table>\n"
      ],
      "text/latex": [
       "A data.frame: 6 × 6\n",
       "\\begin{tabular}{r|llllll}\n",
       "  & Id & SepalLengthCm & SepalWidthCm & PetalLengthCm & PetalWidthCm & Species\\\\\n",
       "  & <int> & <dbl> & <dbl> & <dbl> & <dbl> & <chr>\\\\\n",
       "\\hline\n",
       "\t1 & 101 & 6.3 & 3.3 & 6.0 & 2.5 & Iris-virginica\\\\\n",
       "\t2 & 103 & 7.1 & 3.0 & 5.9 & 2.1 & Iris-virginica\\\\\n",
       "\t3 & 104 & 6.3 & 2.9 & 5.6 & 1.8 & Iris-virginica\\\\\n",
       "\t4 & 105 & 6.5 & 3.0 & 5.8 & 2.2 & Iris-virginica\\\\\n",
       "\t5 & 106 & 7.6 & 3.0 & 6.6 & 2.1 & Iris-virginica\\\\\n",
       "\t6 & 108 & 7.3 & 2.9 & 6.3 & 1.8 & Iris-virginica\\\\\n",
       "\\end{tabular}\n"
      ],
      "text/markdown": [
       "\n",
       "A data.frame: 6 × 6\n",
       "\n",
       "| <!--/--> | Id &lt;int&gt; | SepalLengthCm &lt;dbl&gt; | SepalWidthCm &lt;dbl&gt; | PetalLengthCm &lt;dbl&gt; | PetalWidthCm &lt;dbl&gt; | Species &lt;chr&gt; |\n",
       "|---|---|---|---|---|---|---|\n",
       "| 1 | 101 | 6.3 | 3.3 | 6.0 | 2.5 | Iris-virginica |\n",
       "| 2 | 103 | 7.1 | 3.0 | 5.9 | 2.1 | Iris-virginica |\n",
       "| 3 | 104 | 6.3 | 2.9 | 5.6 | 1.8 | Iris-virginica |\n",
       "| 4 | 105 | 6.5 | 3.0 | 5.8 | 2.2 | Iris-virginica |\n",
       "| 5 | 106 | 7.6 | 3.0 | 6.6 | 2.1 | Iris-virginica |\n",
       "| 6 | 108 | 7.3 | 2.9 | 6.3 | 1.8 | Iris-virginica |\n",
       "\n"
      ],
      "text/plain": [
       "  Id  SepalLengthCm SepalWidthCm PetalLengthCm PetalWidthCm Species       \n",
       "1 101 6.3           3.3          6.0           2.5          Iris-virginica\n",
       "2 103 7.1           3.0          5.9           2.1          Iris-virginica\n",
       "3 104 6.3           2.9          5.6           1.8          Iris-virginica\n",
       "4 105 6.5           3.0          5.8           2.2          Iris-virginica\n",
       "5 106 7.6           3.0          6.6           2.1          Iris-virginica\n",
       "6 108 7.3           2.9          6.3           1.8          Iris-virginica"
      ]
     },
     "metadata": {},
     "output_type": "display_data"
    }
   ],
   "source": [
    "# Filtering data for flowers with petal length more than 5.5 units\n",
    "filtered_df <- iris_df %>% filter(PetalLengthCm > 5.5)\n",
    "head(filtered_df)  # Display the first few rows of the filtered dataframe\n"
   ]
  },
  {
   "cell_type": "code",
   "execution_count": null,
   "id": "418eec56-b34e-4190-ae21-9b6d9ecff69e",
   "metadata": {},
   "outputs": [],
   "source": []
  },
  {
   "cell_type": "code",
   "execution_count": 8,
   "id": "03e2ace9-1afb-4168-b650-a119f3676d8a",
   "metadata": {},
   "outputs": [
    {
     "data": {
      "text/html": [
       "<table class=\"dataframe\">\n",
       "<caption>A data.frame: 6 × 7</caption>\n",
       "<thead>\n",
       "\t<tr><th></th><th scope=col>Id</th><th scope=col>SepalLengthCm</th><th scope=col>SepalWidthCm</th><th scope=col>PetalLengthCm</th><th scope=col>PetalWidthCm</th><th scope=col>Species</th><th scope=col>flower_area</th></tr>\n",
       "\t<tr><th></th><th scope=col>&lt;int&gt;</th><th scope=col>&lt;dbl&gt;</th><th scope=col>&lt;dbl&gt;</th><th scope=col>&lt;dbl&gt;</th><th scope=col>&lt;dbl&gt;</th><th scope=col>&lt;chr&gt;</th><th scope=col>&lt;dbl&gt;</th></tr>\n",
       "</thead>\n",
       "<tbody>\n",
       "\t<tr><th scope=row>1</th><td>101</td><td>6.3</td><td>3.3</td><td>6.0</td><td>2.5</td><td>Iris-virginica</td><td>15.00</td></tr>\n",
       "\t<tr><th scope=row>2</th><td>103</td><td>7.1</td><td>3.0</td><td>5.9</td><td>2.1</td><td>Iris-virginica</td><td>12.39</td></tr>\n",
       "\t<tr><th scope=row>3</th><td>104</td><td>6.3</td><td>2.9</td><td>5.6</td><td>1.8</td><td>Iris-virginica</td><td>10.08</td></tr>\n",
       "\t<tr><th scope=row>4</th><td>105</td><td>6.5</td><td>3.0</td><td>5.8</td><td>2.2</td><td>Iris-virginica</td><td>12.76</td></tr>\n",
       "\t<tr><th scope=row>5</th><td>106</td><td>7.6</td><td>3.0</td><td>6.6</td><td>2.1</td><td>Iris-virginica</td><td>13.86</td></tr>\n",
       "\t<tr><th scope=row>6</th><td>108</td><td>7.3</td><td>2.9</td><td>6.3</td><td>1.8</td><td>Iris-virginica</td><td>11.34</td></tr>\n",
       "</tbody>\n",
       "</table>\n"
      ],
      "text/latex": [
       "A data.frame: 6 × 7\n",
       "\\begin{tabular}{r|lllllll}\n",
       "  & Id & SepalLengthCm & SepalWidthCm & PetalLengthCm & PetalWidthCm & Species & flower\\_area\\\\\n",
       "  & <int> & <dbl> & <dbl> & <dbl> & <dbl> & <chr> & <dbl>\\\\\n",
       "\\hline\n",
       "\t1 & 101 & 6.3 & 3.3 & 6.0 & 2.5 & Iris-virginica & 15.00\\\\\n",
       "\t2 & 103 & 7.1 & 3.0 & 5.9 & 2.1 & Iris-virginica & 12.39\\\\\n",
       "\t3 & 104 & 6.3 & 2.9 & 5.6 & 1.8 & Iris-virginica & 10.08\\\\\n",
       "\t4 & 105 & 6.5 & 3.0 & 5.8 & 2.2 & Iris-virginica & 12.76\\\\\n",
       "\t5 & 106 & 7.6 & 3.0 & 6.6 & 2.1 & Iris-virginica & 13.86\\\\\n",
       "\t6 & 108 & 7.3 & 2.9 & 6.3 & 1.8 & Iris-virginica & 11.34\\\\\n",
       "\\end{tabular}\n"
      ],
      "text/markdown": [
       "\n",
       "A data.frame: 6 × 7\n",
       "\n",
       "| <!--/--> | Id &lt;int&gt; | SepalLengthCm &lt;dbl&gt; | SepalWidthCm &lt;dbl&gt; | PetalLengthCm &lt;dbl&gt; | PetalWidthCm &lt;dbl&gt; | Species &lt;chr&gt; | flower_area &lt;dbl&gt; |\n",
       "|---|---|---|---|---|---|---|---|\n",
       "| 1 | 101 | 6.3 | 3.3 | 6.0 | 2.5 | Iris-virginica | 15.00 |\n",
       "| 2 | 103 | 7.1 | 3.0 | 5.9 | 2.1 | Iris-virginica | 12.39 |\n",
       "| 3 | 104 | 6.3 | 2.9 | 5.6 | 1.8 | Iris-virginica | 10.08 |\n",
       "| 4 | 105 | 6.5 | 3.0 | 5.8 | 2.2 | Iris-virginica | 12.76 |\n",
       "| 5 | 106 | 7.6 | 3.0 | 6.6 | 2.1 | Iris-virginica | 13.86 |\n",
       "| 6 | 108 | 7.3 | 2.9 | 6.3 | 1.8 | Iris-virginica | 11.34 |\n",
       "\n"
      ],
      "text/plain": [
       "  Id  SepalLengthCm SepalWidthCm PetalLengthCm PetalWidthCm Species       \n",
       "1 101 6.3           3.3          6.0           2.5          Iris-virginica\n",
       "2 103 7.1           3.0          5.9           2.1          Iris-virginica\n",
       "3 104 6.3           2.9          5.6           1.8          Iris-virginica\n",
       "4 105 6.5           3.0          5.8           2.2          Iris-virginica\n",
       "5 106 7.6           3.0          6.6           2.1          Iris-virginica\n",
       "6 108 7.3           2.9          6.3           1.8          Iris-virginica\n",
       "  flower_area\n",
       "1 15.00      \n",
       "2 12.39      \n",
       "3 10.08      \n",
       "4 12.76      \n",
       "5 13.86      \n",
       "6 11.34      "
      ]
     },
     "metadata": {},
     "output_type": "display_data"
    }
   ],
   "source": [
    "# Creating the new column ‘flower area’\n",
    "filtered_df <- filtered_df %>% mutate(flower_area = PetalLengthCm * PetalWidthCm)\n",
    "head(filtered_df)  # Display the first few rows to check the new column\n"
   ]
  },
  {
   "cell_type": "code",
   "execution_count": 15,
   "id": "a9cf70b0-e245-4740-b914-50f748ae954a",
   "metadata": {},
   "outputs": [
    {
     "name": "stdout",
     "output_type": "stream",
     "text": [
      "[1] \"Filtered DataFrame with the new 'flower area' column:\"\n"
     ]
    },
    {
     "data": {
      "text/html": [
       "<table class=\"dataframe\">\n",
       "<caption>A data.frame: 25 × 7</caption>\n",
       "<thead>\n",
       "\t<tr><th scope=col>Id</th><th scope=col>SepalLengthCm</th><th scope=col>SepalWidthCm</th><th scope=col>PetalLengthCm</th><th scope=col>PetalWidthCm</th><th scope=col>Species</th><th scope=col>flower_area</th></tr>\n",
       "\t<tr><th scope=col>&lt;int&gt;</th><th scope=col>&lt;dbl&gt;</th><th scope=col>&lt;dbl&gt;</th><th scope=col>&lt;dbl&gt;</th><th scope=col>&lt;dbl&gt;</th><th scope=col>&lt;chr&gt;</th><th scope=col>&lt;dbl&gt;</th></tr>\n",
       "</thead>\n",
       "<tbody>\n",
       "\t<tr><td>101</td><td>6.3</td><td>3.3</td><td>6.0</td><td>2.5</td><td>Iris-virginica</td><td>15.00</td></tr>\n",
       "\t<tr><td>103</td><td>7.1</td><td>3.0</td><td>5.9</td><td>2.1</td><td>Iris-virginica</td><td>12.39</td></tr>\n",
       "\t<tr><td>104</td><td>6.3</td><td>2.9</td><td>5.6</td><td>1.8</td><td>Iris-virginica</td><td>10.08</td></tr>\n",
       "\t<tr><td>105</td><td>6.5</td><td>3.0</td><td>5.8</td><td>2.2</td><td>Iris-virginica</td><td>12.76</td></tr>\n",
       "\t<tr><td>106</td><td>7.6</td><td>3.0</td><td>6.6</td><td>2.1</td><td>Iris-virginica</td><td>13.86</td></tr>\n",
       "\t<tr><td>108</td><td>7.3</td><td>2.9</td><td>6.3</td><td>1.8</td><td>Iris-virginica</td><td>11.34</td></tr>\n",
       "\t<tr><td>109</td><td>6.7</td><td>2.5</td><td>5.8</td><td>1.8</td><td>Iris-virginica</td><td>10.44</td></tr>\n",
       "\t<tr><td>110</td><td>7.2</td><td>3.6</td><td>6.1</td><td>2.5</td><td>Iris-virginica</td><td>15.25</td></tr>\n",
       "\t<tr><td>118</td><td>7.7</td><td>3.8</td><td>6.7</td><td>2.2</td><td>Iris-virginica</td><td>14.74</td></tr>\n",
       "\t<tr><td>119</td><td>7.7</td><td>2.6</td><td>6.9</td><td>2.3</td><td>Iris-virginica</td><td>15.87</td></tr>\n",
       "\t<tr><td>121</td><td>6.9</td><td>3.2</td><td>5.7</td><td>2.3</td><td>Iris-virginica</td><td>13.11</td></tr>\n",
       "\t<tr><td>123</td><td>7.7</td><td>2.8</td><td>6.7</td><td>2.0</td><td>Iris-virginica</td><td>13.40</td></tr>\n",
       "\t<tr><td>125</td><td>6.7</td><td>3.3</td><td>5.7</td><td>2.1</td><td>Iris-virginica</td><td>11.97</td></tr>\n",
       "\t<tr><td>126</td><td>7.2</td><td>3.2</td><td>6.0</td><td>1.8</td><td>Iris-virginica</td><td>10.80</td></tr>\n",
       "\t<tr><td>129</td><td>6.4</td><td>2.8</td><td>5.6</td><td>2.1</td><td>Iris-virginica</td><td>11.76</td></tr>\n",
       "\t<tr><td>130</td><td>7.2</td><td>3.0</td><td>5.8</td><td>1.6</td><td>Iris-virginica</td><td> 9.28</td></tr>\n",
       "\t<tr><td>131</td><td>7.4</td><td>2.8</td><td>6.1</td><td>1.9</td><td>Iris-virginica</td><td>11.59</td></tr>\n",
       "\t<tr><td>132</td><td>7.9</td><td>3.8</td><td>6.4</td><td>2.0</td><td>Iris-virginica</td><td>12.80</td></tr>\n",
       "\t<tr><td>133</td><td>6.4</td><td>2.8</td><td>5.6</td><td>2.2</td><td>Iris-virginica</td><td>12.32</td></tr>\n",
       "\t<tr><td>135</td><td>6.1</td><td>2.6</td><td>5.6</td><td>1.4</td><td>Iris-virginica</td><td> 7.84</td></tr>\n",
       "\t<tr><td>136</td><td>7.7</td><td>3.0</td><td>6.1</td><td>2.3</td><td>Iris-virginica</td><td>14.03</td></tr>\n",
       "\t<tr><td>137</td><td>6.3</td><td>3.4</td><td>5.6</td><td>2.4</td><td>Iris-virginica</td><td>13.44</td></tr>\n",
       "\t<tr><td>141</td><td>6.7</td><td>3.1</td><td>5.6</td><td>2.4</td><td>Iris-virginica</td><td>13.44</td></tr>\n",
       "\t<tr><td>144</td><td>6.8</td><td>3.2</td><td>5.9</td><td>2.3</td><td>Iris-virginica</td><td>13.57</td></tr>\n",
       "\t<tr><td>145</td><td>6.7</td><td>3.3</td><td>5.7</td><td>2.5</td><td>Iris-virginica</td><td>14.25</td></tr>\n",
       "</tbody>\n",
       "</table>\n"
      ],
      "text/latex": [
       "A data.frame: 25 × 7\n",
       "\\begin{tabular}{lllllll}\n",
       " Id & SepalLengthCm & SepalWidthCm & PetalLengthCm & PetalWidthCm & Species & flower\\_area\\\\\n",
       " <int> & <dbl> & <dbl> & <dbl> & <dbl> & <chr> & <dbl>\\\\\n",
       "\\hline\n",
       "\t 101 & 6.3 & 3.3 & 6.0 & 2.5 & Iris-virginica & 15.00\\\\\n",
       "\t 103 & 7.1 & 3.0 & 5.9 & 2.1 & Iris-virginica & 12.39\\\\\n",
       "\t 104 & 6.3 & 2.9 & 5.6 & 1.8 & Iris-virginica & 10.08\\\\\n",
       "\t 105 & 6.5 & 3.0 & 5.8 & 2.2 & Iris-virginica & 12.76\\\\\n",
       "\t 106 & 7.6 & 3.0 & 6.6 & 2.1 & Iris-virginica & 13.86\\\\\n",
       "\t 108 & 7.3 & 2.9 & 6.3 & 1.8 & Iris-virginica & 11.34\\\\\n",
       "\t 109 & 6.7 & 2.5 & 5.8 & 1.8 & Iris-virginica & 10.44\\\\\n",
       "\t 110 & 7.2 & 3.6 & 6.1 & 2.5 & Iris-virginica & 15.25\\\\\n",
       "\t 118 & 7.7 & 3.8 & 6.7 & 2.2 & Iris-virginica & 14.74\\\\\n",
       "\t 119 & 7.7 & 2.6 & 6.9 & 2.3 & Iris-virginica & 15.87\\\\\n",
       "\t 121 & 6.9 & 3.2 & 5.7 & 2.3 & Iris-virginica & 13.11\\\\\n",
       "\t 123 & 7.7 & 2.8 & 6.7 & 2.0 & Iris-virginica & 13.40\\\\\n",
       "\t 125 & 6.7 & 3.3 & 5.7 & 2.1 & Iris-virginica & 11.97\\\\\n",
       "\t 126 & 7.2 & 3.2 & 6.0 & 1.8 & Iris-virginica & 10.80\\\\\n",
       "\t 129 & 6.4 & 2.8 & 5.6 & 2.1 & Iris-virginica & 11.76\\\\\n",
       "\t 130 & 7.2 & 3.0 & 5.8 & 1.6 & Iris-virginica &  9.28\\\\\n",
       "\t 131 & 7.4 & 2.8 & 6.1 & 1.9 & Iris-virginica & 11.59\\\\\n",
       "\t 132 & 7.9 & 3.8 & 6.4 & 2.0 & Iris-virginica & 12.80\\\\\n",
       "\t 133 & 6.4 & 2.8 & 5.6 & 2.2 & Iris-virginica & 12.32\\\\\n",
       "\t 135 & 6.1 & 2.6 & 5.6 & 1.4 & Iris-virginica &  7.84\\\\\n",
       "\t 136 & 7.7 & 3.0 & 6.1 & 2.3 & Iris-virginica & 14.03\\\\\n",
       "\t 137 & 6.3 & 3.4 & 5.6 & 2.4 & Iris-virginica & 13.44\\\\\n",
       "\t 141 & 6.7 & 3.1 & 5.6 & 2.4 & Iris-virginica & 13.44\\\\\n",
       "\t 144 & 6.8 & 3.2 & 5.9 & 2.3 & Iris-virginica & 13.57\\\\\n",
       "\t 145 & 6.7 & 3.3 & 5.7 & 2.5 & Iris-virginica & 14.25\\\\\n",
       "\\end{tabular}\n"
      ],
      "text/markdown": [
       "\n",
       "A data.frame: 25 × 7\n",
       "\n",
       "| Id &lt;int&gt; | SepalLengthCm &lt;dbl&gt; | SepalWidthCm &lt;dbl&gt; | PetalLengthCm &lt;dbl&gt; | PetalWidthCm &lt;dbl&gt; | Species &lt;chr&gt; | flower_area &lt;dbl&gt; |\n",
       "|---|---|---|---|---|---|---|\n",
       "| 101 | 6.3 | 3.3 | 6.0 | 2.5 | Iris-virginica | 15.00 |\n",
       "| 103 | 7.1 | 3.0 | 5.9 | 2.1 | Iris-virginica | 12.39 |\n",
       "| 104 | 6.3 | 2.9 | 5.6 | 1.8 | Iris-virginica | 10.08 |\n",
       "| 105 | 6.5 | 3.0 | 5.8 | 2.2 | Iris-virginica | 12.76 |\n",
       "| 106 | 7.6 | 3.0 | 6.6 | 2.1 | Iris-virginica | 13.86 |\n",
       "| 108 | 7.3 | 2.9 | 6.3 | 1.8 | Iris-virginica | 11.34 |\n",
       "| 109 | 6.7 | 2.5 | 5.8 | 1.8 | Iris-virginica | 10.44 |\n",
       "| 110 | 7.2 | 3.6 | 6.1 | 2.5 | Iris-virginica | 15.25 |\n",
       "| 118 | 7.7 | 3.8 | 6.7 | 2.2 | Iris-virginica | 14.74 |\n",
       "| 119 | 7.7 | 2.6 | 6.9 | 2.3 | Iris-virginica | 15.87 |\n",
       "| 121 | 6.9 | 3.2 | 5.7 | 2.3 | Iris-virginica | 13.11 |\n",
       "| 123 | 7.7 | 2.8 | 6.7 | 2.0 | Iris-virginica | 13.40 |\n",
       "| 125 | 6.7 | 3.3 | 5.7 | 2.1 | Iris-virginica | 11.97 |\n",
       "| 126 | 7.2 | 3.2 | 6.0 | 1.8 | Iris-virginica | 10.80 |\n",
       "| 129 | 6.4 | 2.8 | 5.6 | 2.1 | Iris-virginica | 11.76 |\n",
       "| 130 | 7.2 | 3.0 | 5.8 | 1.6 | Iris-virginica |  9.28 |\n",
       "| 131 | 7.4 | 2.8 | 6.1 | 1.9 | Iris-virginica | 11.59 |\n",
       "| 132 | 7.9 | 3.8 | 6.4 | 2.0 | Iris-virginica | 12.80 |\n",
       "| 133 | 6.4 | 2.8 | 5.6 | 2.2 | Iris-virginica | 12.32 |\n",
       "| 135 | 6.1 | 2.6 | 5.6 | 1.4 | Iris-virginica |  7.84 |\n",
       "| 136 | 7.7 | 3.0 | 6.1 | 2.3 | Iris-virginica | 14.03 |\n",
       "| 137 | 6.3 | 3.4 | 5.6 | 2.4 | Iris-virginica | 13.44 |\n",
       "| 141 | 6.7 | 3.1 | 5.6 | 2.4 | Iris-virginica | 13.44 |\n",
       "| 144 | 6.8 | 3.2 | 5.9 | 2.3 | Iris-virginica | 13.57 |\n",
       "| 145 | 6.7 | 3.3 | 5.7 | 2.5 | Iris-virginica | 14.25 |\n",
       "\n"
      ],
      "text/plain": [
       "   Id  SepalLengthCm SepalWidthCm PetalLengthCm PetalWidthCm Species       \n",
       "1  101 6.3           3.3          6.0           2.5          Iris-virginica\n",
       "2  103 7.1           3.0          5.9           2.1          Iris-virginica\n",
       "3  104 6.3           2.9          5.6           1.8          Iris-virginica\n",
       "4  105 6.5           3.0          5.8           2.2          Iris-virginica\n",
       "5  106 7.6           3.0          6.6           2.1          Iris-virginica\n",
       "6  108 7.3           2.9          6.3           1.8          Iris-virginica\n",
       "7  109 6.7           2.5          5.8           1.8          Iris-virginica\n",
       "8  110 7.2           3.6          6.1           2.5          Iris-virginica\n",
       "9  118 7.7           3.8          6.7           2.2          Iris-virginica\n",
       "10 119 7.7           2.6          6.9           2.3          Iris-virginica\n",
       "11 121 6.9           3.2          5.7           2.3          Iris-virginica\n",
       "12 123 7.7           2.8          6.7           2.0          Iris-virginica\n",
       "13 125 6.7           3.3          5.7           2.1          Iris-virginica\n",
       "14 126 7.2           3.2          6.0           1.8          Iris-virginica\n",
       "15 129 6.4           2.8          5.6           2.1          Iris-virginica\n",
       "16 130 7.2           3.0          5.8           1.6          Iris-virginica\n",
       "17 131 7.4           2.8          6.1           1.9          Iris-virginica\n",
       "18 132 7.9           3.8          6.4           2.0          Iris-virginica\n",
       "19 133 6.4           2.8          5.6           2.2          Iris-virginica\n",
       "20 135 6.1           2.6          5.6           1.4          Iris-virginica\n",
       "21 136 7.7           3.0          6.1           2.3          Iris-virginica\n",
       "22 137 6.3           3.4          5.6           2.4          Iris-virginica\n",
       "23 141 6.7           3.1          5.6           2.4          Iris-virginica\n",
       "24 144 6.8           3.2          5.9           2.3          Iris-virginica\n",
       "25 145 6.7           3.3          5.7           2.5          Iris-virginica\n",
       "   flower_area\n",
       "1  15.00      \n",
       "2  12.39      \n",
       "3  10.08      \n",
       "4  12.76      \n",
       "5  13.86      \n",
       "6  11.34      \n",
       "7  10.44      \n",
       "8  15.25      \n",
       "9  14.74      \n",
       "10 15.87      \n",
       "11 13.11      \n",
       "12 13.40      \n",
       "13 11.97      \n",
       "14 10.80      \n",
       "15 11.76      \n",
       "16  9.28      \n",
       "17 11.59      \n",
       "18 12.80      \n",
       "19 12.32      \n",
       "20  7.84      \n",
       "21 14.03      \n",
       "22 13.44      \n",
       "23 13.44      \n",
       "24 13.57      \n",
       "25 14.25      "
      ]
     },
     "metadata": {},
     "output_type": "display_data"
    }
   ],
   "source": [
    "print(\"Filtered DataFrame with the new 'flower area' column:\")\n",
    "filtered_df\n"
   ]
  }
 ],
 "metadata": {
  "kernelspec": {
   "display_name": "R",
   "language": "R",
   "name": "ir"
  },
  "language_info": {
   "codemirror_mode": "r",
   "file_extension": ".r",
   "mimetype": "text/x-r-source",
   "name": "R",
   "pygments_lexer": "r",
   "version": "4.4.0"
  }
 },
 "nbformat": 4,
 "nbformat_minor": 5
}
